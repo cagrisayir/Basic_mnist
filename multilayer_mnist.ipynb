{
  "nbformat": 4,
  "nbformat_minor": 0,
  "metadata": {
    "colab": {
      "name": "multilayer_mnist.ipynb",
      "provenance": [],
      "collapsed_sections": [],
      "authorship_tag": "ABX9TyNoUAbq1Yh2JlcHrFwyAgBj",
      "include_colab_link": true
    },
    "kernelspec": {
      "name": "python3",
      "display_name": "Python 3"
    }
  },
  "cells": [
    {
      "cell_type": "markdown",
      "metadata": {
        "id": "view-in-github",
        "colab_type": "text"
      },
      "source": [
        "<a href=\"https://colab.research.google.com/github/cagrisayir/Basic_mnist/blob/master/multilayer_mnist.ipynb\" target=\"_parent\"><img src=\"https://colab.research.google.com/assets/colab-badge.svg\" alt=\"Open In Colab\"/></a>"
      ]
    },
    {
      "cell_type": "code",
      "metadata": {
        "id": "GtylgWzsuOvC",
        "colab_type": "code",
        "outputId": "12108e44-e304-4bb6-8790-a51e014464f2",
        "colab": {
          "base_uri": "https://localhost:8080/",
          "height": 84
        }
      },
      "source": [
        "import tensorflow as tf\n",
        "\n",
        "import matplotlib.pyplot as plt\n",
        "from tensorflow.examples.tutorials.mnist import input_data\n",
        "mnist = input_data.read_data_sets(\"data/MNIST/\",one_hot=True)"
      ],
      "execution_count": 0,
      "outputs": [
        {
          "output_type": "stream",
          "text": [
            "Extracting data/MNIST/train-images-idx3-ubyte.gz\n",
            "Extracting data/MNIST/train-labels-idx1-ubyte.gz\n",
            "Extracting data/MNIST/t10k-images-idx3-ubyte.gz\n",
            "Extracting data/MNIST/t10k-labels-idx1-ubyte.gz\n"
          ],
          "name": "stdout"
        }
      ]
    },
    {
      "cell_type": "code",
      "metadata": {
        "id": "uYB8gPT4uqTh",
        "colab_type": "code",
        "colab": {}
      },
      "source": [
        "x = tf.placeholder(tf.float32,[None,784])\n",
        "y_true = tf.placeholder(tf.float32,[None,10])"
      ],
      "execution_count": 0,
      "outputs": []
    },
    {
      "cell_type": "code",
      "metadata": {
        "id": "YyVjXVAOvBQu",
        "colab_type": "code",
        "colab": {}
      },
      "source": [
        "layer_1 = 128\n",
        "layer_2 = 64 \n",
        "layer_3 = 32\n",
        "layer_out = 10\n",
        "weight_1 = tf.Variable(tf.truncated_normal([784,layer_1],stddev=0.1))\n",
        "bias_1 = tf.Variable(tf.constant(0.1,shape=[layer_1]))\n",
        "weight_2 = tf.Variable(tf.truncated_normal([layer_1,layer_2],stddev=0.1))\n",
        "bias_2 = tf.Variable(tf.constant(0.1,shape=[layer_2]))\n",
        "weight_3 = tf.Variable(tf.truncated_normal([layer_2,layer_3],stddev=0.1))\n",
        "bias_3 = tf.Variable(tf.constant(0.1,shape=[layer_3]))\n",
        "weight_4 = tf.Variable(tf.truncated_normal([layer_3,layer_out],stddev=0.1))\n",
        "bias_4 = tf.Variable(tf.constant(0.1,shape=[layer_out]))\n",
        "\n"
      ],
      "execution_count": 0,
      "outputs": []
    },
    {
      "cell_type": "code",
      "metadata": {
        "id": "HACUBeDfwAAZ",
        "colab_type": "code",
        "outputId": "fc94b7f5-a4ca-4eb7-b993-124bc931d332",
        "colab": {
          "base_uri": "https://localhost:8080/",
          "height": 171
        }
      },
      "source": [
        "y1 = tf.nn.relu(tf.matmul(x,weight_1)+bias_1)\n",
        "y2 = tf.nn.relu(tf.matmul(y1,weight_2)+bias_2)\n",
        "y3 = tf.nn.relu(tf.matmul(y2,weight_3)+bias_3)\n",
        "logits = tf.matmul(y3,weight_4)+bias_4\n",
        "y4 = tf.nn.softmax(logits)\n",
        "\n",
        "xent = tf.nn.softmax_cross_entropy_with_logits(logits=logits,labels = y_true)\n",
        "loss = tf.reduce_mean(xent)"
      ],
      "execution_count": 0,
      "outputs": [
        {
          "output_type": "stream",
          "text": [
            "WARNING:tensorflow:From <ipython-input-11-cd67b52a1c43>:7: softmax_cross_entropy_with_logits (from tensorflow.python.ops.nn_ops) is deprecated and will be removed in a future version.\n",
            "Instructions for updating:\n",
            "\n",
            "Future major versions of TensorFlow will allow gradients to flow\n",
            "into the labels input on backprop by default.\n",
            "\n",
            "See `tf.nn.softmax_cross_entropy_with_logits_v2`.\n",
            "\n"
          ],
          "name": "stdout"
        }
      ]
    },
    {
      "cell_type": "code",
      "metadata": {
        "id": "xvaoU03Fwokw",
        "colab_type": "code",
        "colab": {}
      },
      "source": [
        "correct_prediction = tf.equal(tf.argmax(y4,1),tf.argmax(y_true,1)) # argmax en büyüğün kaçta olduğunu dönderir\n",
        "# Tahmin edilen ve doğru olan değer karşılaştırılacak ve True veya false bir değer döndürülecek\n",
        "#correct_prediction'ın ortalamasını aldığımız zaman modelimiz yüzde kaç oranında resimleri tahmin edebiliyor göreceğiz.\n",
        "accuracy = tf.reduce_mean(tf.cast(correct_prediction,tf.float32)) # boolean'ı floata çevirme"
      ],
      "execution_count": 0,
      "outputs": []
    },
    {
      "cell_type": "code",
      "metadata": {
        "id": "5wOoP2VfxqPk",
        "colab_type": "code",
        "colab": {}
      },
      "source": [
        "optimize = tf.train.AdamOptimizer(0.001).minimize(loss)\n",
        "sess= tf.Session()\n",
        "sess.run(tf.global_variables_initializer())\n",
        "batch_size = 128\n",
        "loss_graph= []\n",
        "def training_step(iterations):\n",
        "  for i in range(iterations):\n",
        "    x_batch , y_batch = mnist.train.next_batch(batch_size=batch_size)\n",
        "    feed_dict_train = {x: x_batch, y_true: y_batch}\n",
        "    [_,train_loss] = sess.run([optimize,loss],feed_dict = feed_dict_train)\n",
        "\n",
        "    loss_graph.append(train_loss)\n",
        "    if i % 100 == 0:\n",
        "      train_acc = sess.run(accuracy,feed_dict = feed_dict_train)\n",
        "      print(\"Iteration :\", i,\"Training accuracy : \",train_acc,\"training loss\", train_loss)\n",
        "\n",
        "def test_accuracy():\n",
        "  feed_dict_test = {x: mnist.test.images,y_true : mnist.test.labels}\n",
        "  acc = sess.run(accuracy, feed_dict = feed_dict_test)\n",
        "  print(\"Testing accuracy: \",acc)\n"
      ],
      "execution_count": 0,
      "outputs": []
    },
    {
      "cell_type": "code",
      "metadata": {
        "id": "w9vbPDNmzFhN",
        "colab_type": "code",
        "outputId": "bc94e412-cb27-4a8a-ca7a-42188c8aafb8",
        "colab": {
          "base_uri": "https://localhost:8080/",
          "height": 1000
        }
      },
      "source": [
        "training_step(10000)\n",
        "test_accuracy()\n",
        "plt.plot(loss_graph,\"k-\")\n",
        "plt.title(\"Loss Grafiği\")\n",
        "plt.xlabel(\"Iterations\")\n",
        "plt.ylabel(\"Loss\")\n",
        "plt.show()"
      ],
      "execution_count": 0,
      "outputs": [
        {
          "output_type": "stream",
          "text": [
            "Iteration : 0 Training accuracy :  0.171875 training loss 2.3003292\n",
            "Iteration : 100 Training accuracy :  0.8359375 training loss 0.49090037\n",
            "Iteration : 200 Training accuracy :  0.9140625 training loss 0.30517423\n",
            "Iteration : 300 Training accuracy :  0.890625 training loss 0.3289261\n",
            "Iteration : 400 Training accuracy :  0.953125 training loss 0.20983748\n",
            "Iteration : 500 Training accuracy :  0.9609375 training loss 0.17625016\n",
            "Iteration : 600 Training accuracy :  0.9375 training loss 0.26890492\n",
            "Iteration : 700 Training accuracy :  0.9375 training loss 0.1949856\n",
            "Iteration : 800 Training accuracy :  0.9609375 training loss 0.094860926\n",
            "Iteration : 900 Training accuracy :  0.9609375 training loss 0.14378846\n",
            "Iteration : 1000 Training accuracy :  0.984375 training loss 0.13417876\n",
            "Iteration : 1100 Training accuracy :  0.9609375 training loss 0.15375955\n",
            "Iteration : 1200 Training accuracy :  0.96875 training loss 0.09931768\n",
            "Iteration : 1300 Training accuracy :  0.953125 training loss 0.14447984\n",
            "Iteration : 1400 Training accuracy :  0.9765625 training loss 0.1489126\n",
            "Iteration : 1500 Training accuracy :  0.9765625 training loss 0.10683912\n",
            "Iteration : 1600 Training accuracy :  0.953125 training loss 0.12426719\n",
            "Iteration : 1700 Training accuracy :  0.9375 training loss 0.27294153\n",
            "Iteration : 1800 Training accuracy :  0.984375 training loss 0.05341191\n",
            "Iteration : 1900 Training accuracy :  0.9921875 training loss 0.09239551\n",
            "Iteration : 2000 Training accuracy :  0.984375 training loss 0.040281698\n",
            "Iteration : 2100 Training accuracy :  0.9765625 training loss 0.07334627\n",
            "Iteration : 2200 Training accuracy :  1.0 training loss 0.023106355\n",
            "Iteration : 2300 Training accuracy :  0.984375 training loss 0.039906904\n",
            "Iteration : 2400 Training accuracy :  0.9921875 training loss 0.03825122\n",
            "Iteration : 2500 Training accuracy :  0.9765625 training loss 0.061976295\n",
            "Iteration : 2600 Training accuracy :  1.0 training loss 0.017693259\n",
            "Iteration : 2700 Training accuracy :  0.9921875 training loss 0.024949044\n",
            "Iteration : 2800 Training accuracy :  0.96875 training loss 0.19745418\n",
            "Iteration : 2900 Training accuracy :  0.984375 training loss 0.037761755\n",
            "Iteration : 3000 Training accuracy :  1.0 training loss 0.03188967\n",
            "Iteration : 3100 Training accuracy :  0.984375 training loss 0.038734347\n",
            "Iteration : 3200 Training accuracy :  0.9921875 training loss 0.016078401\n",
            "Iteration : 3300 Training accuracy :  0.9921875 training loss 0.055086195\n",
            "Iteration : 3400 Training accuracy :  0.984375 training loss 0.08442301\n",
            "Iteration : 3500 Training accuracy :  0.984375 training loss 0.040994786\n",
            "Iteration : 3600 Training accuracy :  0.9921875 training loss 0.024811476\n",
            "Iteration : 3700 Training accuracy :  1.0 training loss 0.0053610774\n",
            "Iteration : 3800 Training accuracy :  0.9921875 training loss 0.02382895\n",
            "Iteration : 3900 Training accuracy :  0.9921875 training loss 0.020038074\n",
            "Iteration : 4000 Training accuracy :  1.0 training loss 0.013965799\n",
            "Iteration : 4100 Training accuracy :  1.0 training loss 0.010032033\n",
            "Iteration : 4200 Training accuracy :  0.984375 training loss 0.039170895\n",
            "Iteration : 4300 Training accuracy :  1.0 training loss 0.011985707\n",
            "Iteration : 4400 Training accuracy :  0.984375 training loss 0.04219883\n",
            "Iteration : 4500 Training accuracy :  1.0 training loss 0.006266879\n",
            "Iteration : 4600 Training accuracy :  0.9921875 training loss 0.029790357\n",
            "Iteration : 4700 Training accuracy :  1.0 training loss 0.0025831393\n",
            "Iteration : 4800 Training accuracy :  1.0 training loss 0.023667486\n",
            "Iteration : 4900 Training accuracy :  1.0 training loss 0.004614914\n",
            "Iteration : 5000 Training accuracy :  1.0 training loss 0.005253234\n",
            "Iteration : 5100 Training accuracy :  0.9921875 training loss 0.047315806\n",
            "Iteration : 5200 Training accuracy :  1.0 training loss 0.0055362573\n",
            "Iteration : 5300 Training accuracy :  1.0 training loss 0.001717181\n",
            "Iteration : 5400 Training accuracy :  0.9921875 training loss 0.012823253\n",
            "Iteration : 5500 Training accuracy :  0.9921875 training loss 0.025209382\n",
            "Iteration : 5600 Training accuracy :  1.0 training loss 0.0045168013\n",
            "Iteration : 5700 Training accuracy :  0.9921875 training loss 0.022941072\n",
            "Iteration : 5800 Training accuracy :  1.0 training loss 0.012882958\n",
            "Iteration : 5900 Training accuracy :  1.0 training loss 0.0032741423\n",
            "Iteration : 6000 Training accuracy :  1.0 training loss 0.002881263\n",
            "Iteration : 6100 Training accuracy :  1.0 training loss 0.013798441\n",
            "Iteration : 6200 Training accuracy :  1.0 training loss 0.02230929\n",
            "Iteration : 6300 Training accuracy :  0.9921875 training loss 0.035504363\n",
            "Iteration : 6400 Training accuracy :  1.0 training loss 0.014734296\n",
            "Iteration : 6500 Training accuracy :  1.0 training loss 0.0016560901\n",
            "Iteration : 6600 Training accuracy :  1.0 training loss 0.014323808\n",
            "Iteration : 6700 Training accuracy :  1.0 training loss 0.015063113\n",
            "Iteration : 6800 Training accuracy :  1.0 training loss 0.014475904\n",
            "Iteration : 6900 Training accuracy :  1.0 training loss 0.011877361\n",
            "Iteration : 7000 Training accuracy :  1.0 training loss 0.004157743\n",
            "Iteration : 7100 Training accuracy :  1.0 training loss 0.010078002\n",
            "Iteration : 7200 Training accuracy :  1.0 training loss 0.0010277563\n",
            "Iteration : 7300 Training accuracy :  1.0 training loss 0.0056137834\n",
            "Iteration : 7400 Training accuracy :  1.0 training loss 0.00023828109\n",
            "Iteration : 7500 Training accuracy :  1.0 training loss 0.0005389979\n",
            "Iteration : 7600 Training accuracy :  1.0 training loss 0.0004917047\n",
            "Iteration : 7700 Training accuracy :  1.0 training loss 0.0066898423\n",
            "Iteration : 7800 Training accuracy :  1.0 training loss 0.0041738153\n",
            "Iteration : 7900 Training accuracy :  1.0 training loss 0.0063740904\n",
            "Iteration : 8000 Training accuracy :  1.0 training loss 0.0028836224\n",
            "Iteration : 8100 Training accuracy :  1.0 training loss 0.0008807784\n",
            "Iteration : 8200 Training accuracy :  1.0 training loss 0.013202616\n",
            "Iteration : 8300 Training accuracy :  1.0 training loss 0.0055676657\n",
            "Iteration : 8400 Training accuracy :  1.0 training loss 0.0009317718\n",
            "Iteration : 8500 Training accuracy :  1.0 training loss 0.0046624057\n",
            "Iteration : 8600 Training accuracy :  1.0 training loss 0.001200236\n",
            "Iteration : 8700 Training accuracy :  1.0 training loss 0.0042746942\n",
            "Iteration : 8800 Training accuracy :  1.0 training loss 0.004265981\n",
            "Iteration : 8900 Training accuracy :  1.0 training loss 0.0007067727\n",
            "Iteration : 9000 Training accuracy :  0.9921875 training loss 0.06271186\n",
            "Iteration : 9100 Training accuracy :  1.0 training loss 0.002170705\n",
            "Iteration : 9200 Training accuracy :  0.9921875 training loss 0.050693072\n",
            "Iteration : 9300 Training accuracy :  1.0 training loss 0.0031197662\n",
            "Iteration : 9400 Training accuracy :  1.0 training loss 0.0021430992\n",
            "Iteration : 9500 Training accuracy :  1.0 training loss 0.0048845536\n",
            "Iteration : 9600 Training accuracy :  1.0 training loss 0.00019077653\n",
            "Iteration : 9700 Training accuracy :  0.9921875 training loss 0.024908526\n",
            "Iteration : 9800 Training accuracy :  1.0 training loss 0.017403245\n",
            "Iteration : 9900 Training accuracy :  1.0 training loss 0.0043349545\n",
            "Testing accuracy:  0.9752\n"
          ],
          "name": "stdout"
        },
        {
          "output_type": "display_data",
          "data": {
            "image/png": "[encoded data removed]",
            "text/plain": [
              "<Figure size 432x288 with 1 Axes>"
            ]
          },
          "metadata": {
            "tags": []
          }
        }
      ]
    },
    {
      "cell_type": "code",
      "metadata": {
        "id": "zLsgjMJ6zJk6",
        "colab_type": "code",
        "colab": {}
      },
      "source": [
        ""
      ],
      "execution_count": 0,
      "outputs": []
    }
  ]
}